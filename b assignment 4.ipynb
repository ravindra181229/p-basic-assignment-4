{
 "cells": [
  {
   "cell_type": "code",
   "execution_count": 1,
   "id": "dc81ee94",
   "metadata": {},
   "outputs": [
    {
     "data": {
      "text/plain": [
       "'[] is a list , the empty list value that contains no items'"
      ]
     },
     "execution_count": 1,
     "metadata": {},
     "output_type": "execute_result"
    }
   ],
   "source": [
    "#Q1\n",
    "'''[] is a list , the empty list value that contains no items'''"
   ]
  },
  {
   "cell_type": "code",
   "execution_count": 6,
   "id": "9a598e5c",
   "metadata": {},
   "outputs": [
    {
     "data": {
      "text/plain": [
       "[2, 4, 'hello', 8, 10]"
      ]
     },
     "execution_count": 6,
     "metadata": {},
     "output_type": "execute_result"
    }
   ],
   "source": [
    "#Q2\n",
    "'''we assign it as spam[2] = \"hello\"'''\n",
    "spam =[2,4,6,8,10]\n",
    "spam[2] = \"hello\"\n",
    "spam"
   ]
  },
  {
   "cell_type": "code",
   "execution_count": 7,
   "id": "cd2aefb1",
   "metadata": {},
   "outputs": [
    {
     "data": {
      "text/plain": [
       "'the value of spam[int(int(\\'3\\'*2)/11)] is \"d\" '"
      ]
     },
     "execution_count": 7,
     "metadata": {},
     "output_type": "execute_result"
    }
   ],
   "source": [
    "#Q3\n",
    "'''the value of spam[int(int('3'*2)/11)] is \"d\" '''"
   ]
  },
  {
   "cell_type": "code",
   "execution_count": 8,
   "id": "eb357a9b",
   "metadata": {},
   "outputs": [
    {
     "data": {
      "text/plain": [
       "'the value of spam[-1] is \"d\" '"
      ]
     },
     "execution_count": 8,
     "metadata": {},
     "output_type": "execute_result"
    }
   ],
   "source": [
    "#Q4\n",
    "'''the value of spam[-1] is \"d\" '''"
   ]
  },
  {
   "cell_type": "code",
   "execution_count": 10,
   "id": "5b123d5c",
   "metadata": {},
   "outputs": [
    {
     "data": {
      "text/plain": [
       "\"the value of spam[:2] is ['a', 'b'] \""
      ]
     },
     "execution_count": 10,
     "metadata": {},
     "output_type": "execute_result"
    }
   ],
   "source": [
    "#Q5\n",
    "'''the value of spam[:2] is ['a', 'b'] '''"
   ]
  },
  {
   "cell_type": "code",
   "execution_count": 11,
   "id": "4adb1325",
   "metadata": {},
   "outputs": [
    {
     "data": {
      "text/plain": [
       "\"the value of bacon.index('cat') is 1 \""
      ]
     },
     "execution_count": 11,
     "metadata": {},
     "output_type": "execute_result"
    }
   ],
   "source": [
    "#Q6\n",
    "'''the value of bacon.index('cat') is 1 '''"
   ]
  },
  {
   "cell_type": "code",
   "execution_count": 13,
   "id": "bdd6e02e",
   "metadata": {},
   "outputs": [
    {
     "data": {
      "text/plain": [
       "\"the list value in bacon changes to [3.4, 'cat', 11, 'cat', True, 99] \""
      ]
     },
     "execution_count": 13,
     "metadata": {},
     "output_type": "execute_result"
    }
   ],
   "source": [
    "#Q7\n",
    "'''the list value in bacon changes to [3.4, 'cat', 11, 'cat', True, 99] '''"
   ]
  },
  {
   "cell_type": "code",
   "execution_count": 14,
   "id": "496b8dec",
   "metadata": {},
   "outputs": [
    {
     "data": {
      "text/plain": [
       "\"the list value in bacon changes to [3.4, 11, 'cat', True]\""
      ]
     },
     "execution_count": 14,
     "metadata": {},
     "output_type": "execute_result"
    }
   ],
   "source": [
    "#Q8\n",
    "'''the list value in bacon changes to [3.4, 11, 'cat', True]'''"
   ]
  },
  {
   "cell_type": "code",
   "execution_count": 15,
   "id": "f31f9a39",
   "metadata": {},
   "outputs": [
    {
     "data": {
      "text/plain": [
       "'list concatination adds the lists\\nlist replication multiplies the list\\nthe operators of list concatination and replication  are  \"+\" and \" * \"'"
      ]
     },
     "execution_count": 15,
     "metadata": {},
     "output_type": "execute_result"
    }
   ],
   "source": [
    "#Q9\n",
    "'''list concatination adds the lists\n",
    "list replication multiplies the list\n",
    "the operators of list concatination and replication  are  \"+\" and \" * \"'''"
   ]
  },
  {
   "cell_type": "code",
   "execution_count": 16,
   "id": "9a798cb7",
   "metadata": {},
   "outputs": [
    {
     "data": {
      "text/plain": [
       "'the append() list method adds values to the end of the list\\nthe insert() list method adds a value anyhwere inside a list'"
      ]
     },
     "execution_count": 16,
     "metadata": {},
     "output_type": "execute_result"
    }
   ],
   "source": [
    "#Q10\n",
    "'''the append() list method adds values to the end of the list\n",
    "the insert() list method adds a value anyhwere inside a list'''\n"
   ]
  },
  {
   "cell_type": "code",
   "execution_count": 17,
   "id": "d7343d8b",
   "metadata": {},
   "outputs": [
    {
     "data": {
      "text/plain": [
       "' del() statement and remove() statement'"
      ]
     },
     "execution_count": 17,
     "metadata": {},
     "output_type": "execute_result"
    }
   ],
   "source": [
    "#Q11\n",
    "''' del() statement and remove() statement'''"
   ]
  },
  {
   "cell_type": "code",
   "execution_count": 18,
   "id": "b2441cb0",
   "metadata": {},
   "outputs": [
    {
     "data": {
      "text/plain": [
       "'len() function, concatination and replication are the functions identical between the list and string'"
      ]
     },
     "execution_count": 18,
     "metadata": {},
     "output_type": "execute_result"
    }
   ],
   "source": [
    "#Q12\n",
    "'''len() function, concatination and replication are the functions identical between the list and string'''"
   ]
  },
  {
   "cell_type": "code",
   "execution_count": 19,
   "id": "37e6e6f8",
   "metadata": {},
   "outputs": [
    {
     "data": {
      "text/plain": [
       "'list are mutable and\\ntuples are immutable'"
      ]
     },
     "execution_count": 19,
     "metadata": {},
     "output_type": "execute_result"
    }
   ],
   "source": [
    "#Q13\n",
    "'''list are mutable and\n",
    "tuples are immutable'''"
   ]
  },
  {
   "cell_type": "code",
   "execution_count": 24,
   "id": "63dabf50",
   "metadata": {},
   "outputs": [
    {
     "data": {
      "text/plain": [
       "'we type it as t = (42,)'"
      ]
     },
     "execution_count": 24,
     "metadata": {},
     "output_type": "execute_result"
    }
   ],
   "source": [
    "#Q14\n",
    "'''we type it as t = (42,)'''"
   ]
  },
  {
   "cell_type": "code",
   "execution_count": 25,
   "id": "17d34a95",
   "metadata": {},
   "outputs": [
    {
     "data": {
      "text/plain": [
       "'we assign tuple(list name) to get the list value tuple form and\\nwe assign list(tuple name) to get the tuple value as list form'"
      ]
     },
     "execution_count": 25,
     "metadata": {},
     "output_type": "execute_result"
    }
   ],
   "source": [
    "#Q15\n",
    "'''we assign tuple(list name) to get the list value tuple form and\n",
    "we assign list(tuple name) to get the tuple value as list form'''"
   ]
  },
  {
   "cell_type": "code",
   "execution_count": 26,
   "id": "470734f5",
   "metadata": {},
   "outputs": [
    {
     "name": "stdout",
     "output_type": "stream",
     "text": [
      "(1, 2, 3, 4)\n",
      "[5, 6, 7, 8]\n"
     ]
    }
   ],
   "source": [
    "#Q15 example\n",
    "#list value to tuple form\n",
    "test = [1,2,3,4]\n",
    "t1 = tuple(test)\n",
    "print(t1)\n",
    "#tuple value to list form\n",
    "test1 = (5,6,7,8)\n",
    "t2 = list(test1)\n",
    "print(t2)\n",
    "\n"
   ]
  },
  {
   "cell_type": "code",
   "execution_count": 27,
   "id": "a4db1bd2",
   "metadata": {},
   "outputs": [
    {
     "data": {
      "text/plain": [
       "'they contain items'"
      ]
     },
     "execution_count": 27,
     "metadata": {},
     "output_type": "execute_result"
    }
   ],
   "source": [
    "#Q16\n",
    "'''they contain items'''"
   ]
  },
  {
   "cell_type": "code",
   "execution_count": null,
   "id": "482fbcb9",
   "metadata": {},
   "outputs": [],
   "source": [
    "#Q17\n",
    "'''copy.copy() is a shallow copy and \n",
    "copy.deepcopy() is a deep copy'''"
   ]
  }
 ],
 "metadata": {
  "kernelspec": {
   "display_name": "Python 3",
   "language": "python",
   "name": "python3"
  },
  "language_info": {
   "codemirror_mode": {
    "name": "ipython",
    "version": 3
   },
   "file_extension": ".py",
   "mimetype": "text/x-python",
   "name": "python",
   "nbconvert_exporter": "python",
   "pygments_lexer": "ipython3",
   "version": "3.8.8"
  }
 },
 "nbformat": 4,
 "nbformat_minor": 5
}
